{
 "cells": [
  {
   "cell_type": "markdown",
   "id": "053b3391-8749-475f-aa2b-aac9b1156f4e",
   "metadata": {},
   "source": [
    "# Hog+CH+lbp_with_knn"
   ]
  },
  {
   "cell_type": "markdown",
   "id": "502b1921-fe61-449c-8511-048412b8fdcc",
   "metadata": {},
   "source": [
    "## import libraries"
   ]
  },
  {
   "cell_type": "code",
   "execution_count": 3,
   "id": "cb0e7ff3-613b-4108-84fb-0097553261f3",
   "metadata": {},
   "outputs": [],
   "source": [
    "import numpy as np\n",
    "import cv2\n",
    "import tensorflow as tf\n",
    "from collections import Counter\n",
    "from sklearn.metrics import accuracy_score, confusion_matrix, classification_report\n",
    "import tensorflow_datasets as tfds\n",
    "import matplotlib.pyplot as plt\n",
    "from skimage.feature import local_binary_pattern\n",
    "from skimage.feature import hog\n",
    "from sklearn.decomposition import PCA \n",
    "from skimage import exposure\n",
    "from skimage import feature"
   ]
  },
  {
   "cell_type": "markdown",
   "id": "e027ac4b-e078-41c2-95ea-b0ed2439bdb1",
   "metadata": {},
   "source": [
    "## Load the Caltech101 dataset\n"
   ]
  },
  {
   "cell_type": "code",
   "execution_count": 5,
   "id": "c000665d-7c93-473a-b10e-31a4991c6574",
   "metadata": {},
   "outputs": [],
   "source": [
    "dataset, info = tfds.load('caltech101', with_info=True, as_supervised=True)"
   ]
  },
  {
   "cell_type": "markdown",
   "id": "3f4523f3-f6b8-49c9-b970-b13d6a696db3",
   "metadata": {},
   "source": [
    "## Split the dataset into training and testing sets\n"
   ]
  },
  {
   "cell_type": "code",
   "execution_count": 7,
   "id": "2d015d49-5b45-49e4-960e-3c0065251fa5",
   "metadata": {},
   "outputs": [],
   "source": [
    "train_data = dataset['train']\n",
    "test_data = dataset['test']"
   ]
  },
  {
   "cell_type": "markdown",
   "id": "98cf3bad-dc68-4e4f-8232-359b8947dd74",
   "metadata": {},
   "source": [
    "## Resize with padding function\n"
   ]
  },
  {
   "cell_type": "code",
   "execution_count": 9,
   "id": "e3568783-98c3-4fe8-97bf-f043c3245561",
   "metadata": {},
   "outputs": [],
   "source": [
    "def resize_with_padding(image, target_size=(64, 64)):\n",
    "    h, w = image.shape[:2]\n",
    "    scale = min(target_size[1] / w, target_size[0] / h)\n",
    "    resized_image = cv2.resize(image, (int(w * scale), int(h * scale)))\n",
    "    \n",
    "    delta_w = target_size[1] - resized_image.shape[1]\n",
    "    delta_h = target_size[0] - resized_image.shape[0]\n",
    "    top, bottom = delta_h // 2, delta_h - (delta_h // 2)\n",
    "    left, right = delta_w // 2, delta_w - (delta_w // 2)\n",
    "    padded_image = cv2.copyMakeBorder(resized_image, top, bottom, left, right, cv2.BORDER_CONSTANT, value=[0, 0, 0])\n",
    "    return padded_image"
   ]
  },
  {
   "cell_type": "markdown",
   "id": "f0c8d2bc-8bb4-4032-843b-8106d42f742b",
   "metadata": {},
   "source": [
    "## Process the dataset\n"
   ]
  },
  {
   "cell_type": "code",
   "execution_count": 11,
   "id": "8d1d6686-6154-4020-892f-167ba0d99801",
   "metadata": {},
   "outputs": [],
   "source": [
    "def process_data(data, image_size=(64, 64)):\n",
    "    images = []\n",
    "    labels = []\n",
    "\n",
    "    for image, label in data:\n",
    "        # Resize with padding\n",
    "        image_resized = resize_with_padding(image.numpy(), image_size).astype('float32') / 255.0\n",
    "        images.append(image_resized)\n",
    "        labels.append(label.numpy())\n",
    "    \n",
    "    return np.array(images), np.array(labels)"
   ]
  },
  {
   "cell_type": "markdown",
   "id": "fc50feeb-fc08-40de-b928-dd5ab0dff87a",
   "metadata": {},
   "source": [
    "## Preprocess the training and testing datasets\n"
   ]
  },
  {
   "cell_type": "code",
   "execution_count": 13,
   "id": "3b266e66-f19b-4c12-8c1b-9ae82605146f",
   "metadata": {},
   "outputs": [],
   "source": [
    "X_train, y_train = process_data(train_data, image_size=(64, 64))\n",
    "X_test, y_test = process_data(test_data, image_size=(64, 64))"
   ]
  },
  {
   "cell_type": "markdown",
   "id": "e1a24cee-ddcd-4c41-a8d5-3a19b8a1de0e",
   "metadata": {},
   "source": [
    "## Feature extraction using HOG only\n"
   ]
  },
  {
   "cell_type": "code",
   "execution_count": 15,
   "id": "28a5f1de-f9fe-4890-ae93-966b43a7cea4",
   "metadata": {},
   "outputs": [],
   "source": [
    "def extract_combined_features(image, image_size=(64, 64), bins=32):\n",
    "    # Convert image to BGR format\n",
    "    image = cv2.cvtColor((image * 255).astype('uint8'), cv2.COLOR_RGB2BGR)\n",
    "    \n",
    "    # 1. Color Histogram Features\n",
    "    color_features = []\n",
    "    for channel in range(3):  # B, G, R channels\n",
    "        hist = cv2.calcHist([image], [channel], None, [bins], [0, 256])\n",
    "        hist = cv2.normalize(hist, hist).flatten()\n",
    "        color_features.extend(hist)\n",
    "\n",
    "    # 2. LBP Features\n",
    "    gray_image = cv2.cvtColor(image, cv2.COLOR_BGR2GRAY)\n",
    "    # Convert grayscale image to uint8 before applying LBP\n",
    "    gray_image = np.uint8(gray_image)\n",
    "    lbp = local_binary_pattern(gray_image, P=8, R=1, method=\"uniform\")\n",
    "    lbp_hist, _ = np.histogram(lbp.ravel(), bins=bins, range=(0, bins))\n",
    "    lbp_hist = lbp_hist / lbp_hist.sum()  # Normalize\n",
    "    \n",
    "    # 3. HOG Features (using custom function)\n",
    "    winSize = (32, 32)\n",
    "    blockSize = (16, 16)\n",
    "    blockStride = (8, 8)\n",
    "    cellSize = (8, 8)\n",
    "    nbins = 9\n",
    "    hog_descriptor = cv2.HOGDescriptor(winSize, blockSize, blockStride, cellSize, nbins)\n",
    "    hog_features = hog_descriptor.compute(gray_image).flatten()\n",
    "\n",
    "    # Concatenate all features into a single feature vector\n",
    "    combined_features = np.hstack((color_features, lbp_hist, hog_features))\n",
    "    \n",
    "    return combined_features"
   ]
  },
  {
   "cell_type": "markdown",
   "id": "51075966-d85b-4464-a099-8d096193844f",
   "metadata": {},
   "source": [
    "## Feature extraction for training and testing datasets using combined features\r\n"
   ]
  },
  {
   "cell_type": "code",
   "execution_count": 17,
   "id": "87b27f2e-2960-4173-90f5-622a828557c3",
   "metadata": {},
   "outputs": [],
   "source": [
    "def extract_features(images, image_size=(64, 64), bins=32):\n",
    "    features = []\n",
    "    for image in images:\n",
    "        features.append(extract_combined_features(image, image_size, bins))\n",
    "    return np.array(features)"
   ]
  },
  {
   "cell_type": "markdown",
   "id": "db1fe550-7c4f-4835-8346-037b7bd97743",
   "metadata": {},
   "source": [
    "## Extract combined features for training and testing datasets\r\n"
   ]
  },
  {
   "cell_type": "code",
   "execution_count": 19,
   "id": "c0d51fcc-c9c4-4043-a4bf-e5daf37b9951",
   "metadata": {},
   "outputs": [],
   "source": [
    "features_train = extract_features(X_train, image_size=(64, 64), bins=32)\n",
    "features_test = extract_features(X_test, image_size=(64, 64), bins=32)"
   ]
  },
  {
   "cell_type": "markdown",
   "id": "21e04e93-054b-457f-b7af-747f6610d4e2",
   "metadata": {},
   "source": [
    "## Apply PCA for dimensionality reduction"
   ]
  },
  {
   "cell_type": "code",
   "execution_count": 21,
   "id": "d385d71e-6317-4f31-8329-925092c2b71d",
   "metadata": {},
   "outputs": [],
   "source": [
    "def apply_pca(features_train, features_test, n_components=100):\n",
    "    pca = PCA(n_components=n_components)  # Number of components to keep\n",
    "    features_train_reduced = pca.fit_transform(features_train)\n",
    "    features_test_reduced = pca.transform(features_test)\n",
    "    \n",
    "    return features_train_reduced, features_test_reduced, pca"
   ]
  },
  {
   "cell_type": "markdown",
   "id": "da630aa6-e5fb-49ac-84cd-b56caef3b20c",
   "metadata": {},
   "source": [
    "## Reduce the dimensionality of the features using PCA"
   ]
  },
  {
   "cell_type": "code",
   "execution_count": 23,
   "id": "cebfde4d-ffc8-40d4-b58e-116ad12870dc",
   "metadata": {},
   "outputs": [],
   "source": [
    "features_train_reduced, features_test_reduced, pca_model = apply_pca(features_train, features_test, n_components=100)"
   ]
  },
  {
   "cell_type": "markdown",
   "id": "d461f4a5-21d2-4fbe-b004-fae5414dbcef",
   "metadata": {},
   "source": [
    "## Implement KNN classifier\n"
   ]
  },
  {
   "cell_type": "code",
   "execution_count": 25,
   "id": "1dfbdd08-34d6-4ea7-a7af-39f1cfbb2dcd",
   "metadata": {},
   "outputs": [],
   "source": [
    "def euclidean_distance(x1, x2):\n",
    "    return np.sqrt(np.sum((x1 - x2) ** 2))\n",
    "\n",
    "# Implement KNN classifier\n",
    "class KNN:\n",
    "    def __init__(self, k=3):\n",
    "        self.k = k\n",
    "\n",
    "    def fit(self, X, y):\n",
    "        self.X_train = X\n",
    "        self.y_train = y\n",
    "\n",
    "    def predict(self, X):\n",
    "        predictions = [self._predict(x) for x in X]\n",
    "        return predictions\n",
    "\n",
    "    def _predict(self, x):\n",
    "        # Compute the distances to all training samples\n",
    "        distances = [euclidean_distance(x, x_train) for x_train in self.X_train]\n",
    "        \n",
    "        # Get the k nearest neighbors\n",
    "        k_indices = np.argsort(distances)[:self.k]\n",
    "        k_nearest_labels = [self.y_train[i] for i in k_indices]\n",
    "        \n",
    "        # Return the most common label among neighbors\n",
    "        most_common = Counter(k_nearest_labels).most_common(1)\n",
    "        return most_common[0][0]\n"
   ]
  },
  {
   "cell_type": "markdown",
   "id": "5b6237a0-c1d1-4edc-84e6-8c4a49b1477f",
   "metadata": {},
   "source": [
    "## Train and predict with KNN\n"
   ]
  },
  {
   "cell_type": "code",
   "execution_count": 27,
   "id": "c2b7746f-da35-4c99-b179-875a4bbd5d49",
   "metadata": {},
   "outputs": [],
   "source": [
    "classifier = KNN(k=5)\n",
    "classifier.fit(features_train_reduced, y_train.flatten())\n",
    "y_pred = classifier.predict(features_test_reduced)"
   ]
  },
  {
   "cell_type": "markdown",
   "id": "320ec7a9-e0f6-47dd-b368-e2c1640056ce",
   "metadata": {},
   "source": [
    "## Evaluate the classifier\n"
   ]
  },
  {
   "cell_type": "code",
   "execution_count": 29,
   "id": "02126541-f23f-4321-abf7-cfd5d0cca915",
   "metadata": {},
   "outputs": [
    {
     "name": "stdout",
     "output_type": "stream",
     "text": [
      "Accuracy: 56.22%\n"
     ]
    }
   ],
   "source": [
    "accuracy = accuracy_score(y_test.flatten(), y_pred)\n",
    "print(f\"Accuracy: {accuracy * 100:.2f}%\")"
   ]
  },
  {
   "cell_type": "markdown",
   "id": "ee5dbee1-f9c0-4d29-bf1a-ee5f7c1ab8fb",
   "metadata": {},
   "source": [
    "## Print classification report\n"
   ]
  },
  {
   "cell_type": "code",
   "execution_count": 31,
   "id": "42f93943-6d63-4e57-8c79-dd6b408a8d67",
   "metadata": {},
   "outputs": [
    {
     "name": "stdout",
     "output_type": "stream",
     "text": [
      "\n",
      "Classification Report:\n",
      "              precision    recall  f1-score   support\n",
      "\n",
      "           0       1.00      0.44      0.61        25\n",
      "           1       0.97      0.93      0.95       770\n",
      "           2       0.21      0.25      0.23        12\n",
      "           3       0.00      0.00      0.00        12\n",
      "           4       0.66      0.09      0.15       438\n",
      "           5       0.19      0.41      0.26        17\n",
      "           6       0.12      0.17      0.14        24\n",
      "           7       0.04      0.06      0.05        16\n",
      "           8       0.00      0.00      0.00         3\n",
      "           9       0.31      0.28      0.29        98\n",
      "          10       0.33      0.38      0.36        68\n",
      "          11       0.17      0.15      0.16        13\n",
      "          12       0.40      0.49      0.44        55\n",
      "          13       0.67      0.23      0.34        61\n",
      "          14       0.38      0.15      0.21        20\n",
      "          15       0.05      0.15      0.07        13\n",
      "          16       0.93      0.99      0.96        93\n",
      "          17       0.44      0.24      0.31        17\n",
      "          18       0.77      0.34      0.48        29\n",
      "          19       0.28      0.16      0.20        32\n",
      "          20       0.34      0.26      0.29        77\n",
      "          21       0.18      0.12      0.14        17\n",
      "          22       0.50      0.44      0.47        39\n",
      "          23       0.22      0.14      0.17        43\n",
      "          24       0.11      0.10      0.11        40\n",
      "          25       0.04      0.15      0.06        20\n",
      "          26       0.03      0.24      0.06        21\n",
      "          27       0.67      0.22      0.33        27\n",
      "          28       0.17      0.11      0.13        37\n",
      "          29       0.24      0.86      0.37        22\n",
      "          30       0.47      0.20      0.28        35\n",
      "          31       0.83      0.50      0.62        38\n",
      "          32       0.58      0.24      0.34        45\n",
      "          33       0.32      0.18      0.23        34\n",
      "          34       0.01      0.04      0.01        23\n",
      "          35       0.55      0.35      0.43        34\n",
      "          36       0.32      0.22      0.26        55\n",
      "          37       0.96      0.86      0.91       405\n",
      "          38       0.99      0.98      0.99       405\n",
      "          39       0.21      0.32      0.25        37\n",
      "          40       0.29      0.14      0.19        37\n",
      "          41       0.43      0.20      0.27        15\n",
      "          42       0.02      0.25      0.04         4\n",
      "          43       0.01      0.25      0.02         4\n",
      "          44       0.42      0.24      0.30        21\n",
      "          45       1.00      0.58      0.73        69\n",
      "          46       0.32      0.27      0.29        70\n",
      "          47       0.33      0.17      0.22        12\n",
      "          48       0.03      0.25      0.05        24\n",
      "          49       0.39      0.34      0.37        58\n",
      "          50       0.17      0.18      0.17        50\n",
      "          51       0.09      1.00      0.17         1\n",
      "          52       0.13      0.15      0.14        34\n",
      "          53       0.24      0.27      0.25        56\n",
      "          54       0.78      0.30      0.43        84\n",
      "          55       0.42      0.35      0.39        31\n",
      "          56       0.88      0.55      0.67        51\n",
      "          57       0.57      0.68      0.62       170\n",
      "          58       0.37      0.15      0.21        48\n",
      "          59       0.08      0.09      0.08        11\n",
      "          60       0.10      0.03      0.04        36\n",
      "          61       0.46      0.46      0.46        13\n",
      "          62       0.00      0.00      0.00        10\n",
      "          63       0.88      0.49      0.63        57\n",
      "          64       0.14      0.50      0.22         2\n",
      "          65       1.00      0.80      0.89        46\n",
      "          66       0.96      0.88      0.92       768\n",
      "          67       0.78      0.28      0.41        25\n",
      "          68       0.00      0.00      0.00         5\n",
      "          69       0.27      0.33      0.30         9\n",
      "          70       0.61      0.65      0.63        17\n",
      "          71       0.06      0.12      0.08         8\n",
      "          72       0.16      0.33      0.22        15\n",
      "          73       0.07      0.74      0.13        23\n",
      "          74       0.00      0.00      0.00         4\n",
      "          75       0.29      0.19      0.23        27\n",
      "          76       0.82      0.69      0.75        52\n",
      "          77       0.14      0.17      0.15        29\n",
      "          78       0.62      0.42      0.50        19\n",
      "          79       0.45      0.50      0.48        10\n",
      "          80       0.44      0.64      0.52        33\n",
      "          81       0.57      0.44      0.50         9\n",
      "          82       0.23      0.19      0.21        54\n",
      "          83       0.00      0.00      0.00        27\n",
      "          84       0.05      0.40      0.09         5\n",
      "          85       0.67      0.24      0.35        34\n",
      "          86       0.64      0.47      0.54        15\n",
      "          87       0.31      0.27      0.29        56\n",
      "          88       0.28      0.38      0.32        29\n",
      "          89       0.68      0.38      0.49        34\n",
      "          90       0.06      0.20      0.10         5\n",
      "          91       0.32      0.15      0.20        55\n",
      "          92       0.31      0.42      0.36        19\n",
      "          93       0.57      0.84      0.68        56\n",
      "          94       0.60      0.20      0.30        45\n",
      "          95       0.84      0.62      0.71       209\n",
      "          96       0.09      0.14      0.11         7\n",
      "          97       0.35      0.24      0.29        29\n",
      "          98       0.00      0.00      0.00         4\n",
      "          99       0.44      0.65      0.52        26\n",
      "         100       0.50      0.44      0.47         9\n",
      "         101       1.00      0.77      0.87        30\n",
      "\n",
      "    accuracy                           0.56      6085\n",
      "   macro avg       0.39      0.34      0.33      6085\n",
      "weighted avg       0.68      0.56      0.59      6085\n",
      "\n"
     ]
    }
   ],
   "source": [
    "print(\"\\nClassification Report:\")\n",
    "print(classification_report(y_test.flatten(), y_pred))"
   ]
  },
  {
   "cell_type": "markdown",
   "id": "f4c30b82-2dc2-4945-a5cf-35850690f7cf",
   "metadata": {},
   "source": [
    "## Visualize a random image, its HOG features, and the KNN prediction\n"
   ]
  },
  {
   "cell_type": "code",
   "execution_count": 55,
   "id": "2a476bd0-db33-46e2-b060-f2cf4a537188",
   "metadata": {},
   "outputs": [],
   "source": [
    "from skimage import exposure  # Add this import at the beginning of your code\n",
    "\n",
    "def show_image_with_features_and_predictions(images, labels, classifier, pca_model, image_size=(64, 64)):\n",
    "    # Randomly choose an index\n",
    "    idx = np.random.choice(len(images))\n",
    "    \n",
    "    # Extract image and its corresponding label using the index\n",
    "    image = images[idx]\n",
    "    label = labels[idx]\n",
    "    \n",
    "    # Resize image to the desired size\n",
    "    resized_image = resize_with_padding(image, target_size=image_size)\n",
    "\n",
    "    # Extract all features\n",
    "    combined_features = extract_combined_features(resized_image, image_size=image_size, bins=32)\n",
    "    \n",
    "    # Apply PCA transformation to the features\n",
    "    combined_features_reduced = pca_model.transform([combined_features])\n",
    "    \n",
    "    # Make prediction using the classifier\n",
    "    prediction = classifier.predict(combined_features_reduced)[0]\n",
    "    \n",
    "    # Plot the original image\n",
    "    plt.subplot(2, 3, 1)\n",
    "    plt.imshow(resized_image)\n",
    "    plt.title(f\"True Label: {label}\")\n",
    "    plt.axis('off')\n",
    "    \n",
    "    # Plot color histograms\n",
    "    plt.subplot(2, 3, 2)\n",
    "    color_features = combined_features[:3 * 32]  # Get the first part of features (Color Hist)\n",
    "    color_features = color_features.reshape(3, 32)  # Reshape to 3 channels x bins\n",
    "    plt.bar(range(32), color_features[0], color='b', alpha=0.5, label=\"Blue\")\n",
    "    plt.bar(range(32), color_features[1], color='g', alpha=0.5, label=\"Green\")\n",
    "    plt.bar(range(32), color_features[2], color='r', alpha=0.5, label=\"Red\")\n",
    "    plt.title(\"Color Histograms\")\n",
    "    plt.legend()\n",
    "    \n",
    "    # Plot LBP features as histogram\n",
    "    plt.subplot(2, 3, 3)\n",
    "    lbp_hist = combined_features[3 * 32:3 * 32 + 32]  # Get the LBP Hist\n",
    "    plt.bar(range(32), lbp_hist)\n",
    "    plt.title(\"LBP Features\")\n",
    "    \n",
    "    # Plot the LBP image (texture visualization)\n",
    "    plt.subplot(2, 3, 4)\n",
    "    gray_image = cv2.cvtColor(resized_image, cv2.COLOR_BGR2GRAY)\n",
    "    \n",
    "    # Convert to uint8 for LBP\n",
    "    gray_image = np.uint8(gray_image)\n",
    "    \n",
    "    # Apply LBP and calculate the LBP image (texture map)\n",
    "    radius = 1  # Radius of the circular region around each pixel\n",
    "    n_points = 8 * radius  # Number of neighbors\n",
    "    lbp_image = local_binary_pattern(gray_image, n_points, radius, method='uniform')\n",
    "    \n",
    "    # Plot LBP image\n",
    "    plt.imshow(lbp_image, cmap=plt.cm.gray)\n",
    "    plt.title(\"LBP Image\")\n",
    "    plt.axis('off')\n",
    "    \n",
    "    # Plot HOG Features\n",
    "    plt.subplot(2, 3, 5)\n",
    "    # Use skimage.feature.hog to compute HOG features and the HOG image\n",
    "    fd, hog_image = feature.hog(gray_image, orientations=9, pixels_per_cell=(8, 8), cells_per_block=(2, 2), visualize=True)\n",
    "    \n",
    "    # Rescale the HOG image for visualization purposes\n",
    "    hog_image_rescaled = exposure.rescale_intensity(hog_image, in_range=(0, 10))\n",
    "    plt.imshow(hog_image_rescaled, cmap=plt.cm.gray)\n",
    "    plt.title(\"HOG Image\")\n",
    "    plt.axis('off')\n",
    "    \n",
    "    # Plot the predicted label\n",
    "    plt.subplot(2, 3, 6)\n",
    "    plt.imshow(resized_image)\n",
    "    plt.title(f\"Predicted: {prediction}\")\n",
    "    plt.axis('off')\n",
    "    \n",
    "    plt.show()\n"
   ]
  },
  {
   "cell_type": "markdown",
   "id": "cc7eb273-2a39-4b5a-b77e-f5f18bf1b415",
   "metadata": {},
   "source": [
    "## Show image with HOG features and prediction\n"
   ]
  },
  {
   "cell_type": "code",
   "execution_count": 61,
   "id": "06924f4b-289e-4fd3-82f3-71347acaa34b",
   "metadata": {},
   "outputs": [
    {
     "data": {
      "image/png": "[encoded data removed]",
      "text/plain": [
       "<Figure size 640x480 with 6 Axes>"
      ]
     },
     "metadata": {},
     "output_type": "display_data"
    }
   ],
   "source": [
    "show_image_with_features_and_predictions(X_test, y_test, classifier, pca_model)"
   ]
  },
  {
   "cell_type": "code",
   "execution_count": null,
   "id": "11b095af-eda9-4cae-a6bd-4725ef80ed95",
   "metadata": {},
   "outputs": [],
   "source": []
  },
  {
   "cell_type": "code",
   "execution_count": null,
   "id": "af0b9753-7ac5-46ca-9c5f-3e0f3ae880d2",
   "metadata": {},
   "outputs": [],
   "source": []
  }
 ],
 "metadata": {
  "kernelspec": {
   "display_name": "Python 3 (ipykernel)",
   "language": "python",
   "name": "python3"
  },
  "language_info": {
   "codemirror_mode": {
    "name": "ipython",
    "version": 3
   },
   "file_extension": ".py",
   "mimetype": "text/x-python",
   "name": "python",
   "nbconvert_exporter": "python",
   "pygments_lexer": "ipython3",
   "version": "3.12.4"
  }
 },
 "nbformat": 4,
 "nbformat_minor": 5
}
