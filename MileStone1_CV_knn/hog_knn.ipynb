{
 "cells": [
  {
   "cell_type": "markdown",
   "id": "053b3391-8749-475f-aa2b-aac9b1156f4e",
   "metadata": {},
   "source": [
    "# Hog_with_knn"
   ]
  },
  {
   "cell_type": "markdown",
   "id": "502b1921-fe61-449c-8511-048412b8fdcc",
   "metadata": {},
   "source": [
    "## import libraries"
   ]
  },
  {
   "cell_type": "code",
   "execution_count": 10,
   "id": "cb0e7ff3-613b-4108-84fb-0097553261f3",
   "metadata": {},
   "outputs": [],
   "source": [
    "import numpy as np\n",
    "import cv2\n",
    "import tensorflow as tf\n",
    "from collections import Counter\n",
    "from sklearn.metrics import accuracy_score, confusion_matrix, classification_report\n",
    "import tensorflow_datasets as tfds\n",
    "import matplotlib.pyplot as plt\n",
    "from skimage.feature import local_binary_pattern\n",
    "from skimage.feature import hog"
   ]
  },
  {
   "cell_type": "markdown",
   "id": "e027ac4b-e078-41c2-95ea-b0ed2439bdb1",
   "metadata": {},
   "source": [
    "## Load the Caltech101 dataset\n"
   ]
  },
  {
   "cell_type": "code",
   "execution_count": 12,
   "id": "c000665d-7c93-473a-b10e-31a4991c6574",
   "metadata": {},
   "outputs": [],
   "source": [
    "dataset, info = tfds.load('caltech101', with_info=True, as_supervised=True)\n"
   ]
  },
  {
   "cell_type": "markdown",
   "id": "3f4523f3-f6b8-49c9-b970-b13d6a696db3",
   "metadata": {},
   "source": [
    "## Split the dataset into training and testing sets\n"
   ]
  },
  {
   "cell_type": "code",
   "execution_count": 14,
   "id": "2d015d49-5b45-49e4-960e-3c0065251fa5",
   "metadata": {},
   "outputs": [],
   "source": [
    "train_data = dataset['train']\n",
    "test_data = dataset['test']"
   ]
  },
  {
   "cell_type": "markdown",
   "id": "98cf3bad-dc68-4e4f-8232-359b8947dd74",
   "metadata": {},
   "source": [
    "## Resize with padding function\n"
   ]
  },
  {
   "cell_type": "code",
   "execution_count": 16,
   "id": "e3568783-98c3-4fe8-97bf-f043c3245561",
   "metadata": {},
   "outputs": [],
   "source": [
    "def resize_with_padding(image, target_size=(64, 64)):\n",
    "    h, w = image.shape[:2]\n",
    "    scale = min(target_size[1] / w, target_size[0] / h)\n",
    "    resized_image = cv2.resize(image, (int(w * scale), int(h * scale)))\n",
    "    \n",
    "    delta_w = target_size[1] - resized_image.shape[1]\n",
    "    delta_h = target_size[0] - resized_image.shape[0]\n",
    "    top, bottom = delta_h // 2, delta_h - (delta_h // 2)\n",
    "    left, right = delta_w // 2, delta_w - (delta_w // 2)\n",
    "    padded_image = cv2.copyMakeBorder(resized_image, top, bottom, left, right, cv2.BORDER_CONSTANT, value=[0, 0, 0])\n",
    "    return padded_image"
   ]
  },
  {
   "cell_type": "markdown",
   "id": "f0c8d2bc-8bb4-4032-843b-8106d42f742b",
   "metadata": {},
   "source": [
    "## Process the dataset\n"
   ]
  },
  {
   "cell_type": "code",
   "execution_count": 18,
   "id": "8d1d6686-6154-4020-892f-167ba0d99801",
   "metadata": {},
   "outputs": [],
   "source": [
    "def process_data(data, image_size=(64, 64)):\n",
    "    images = []\n",
    "    labels = []\n",
    "\n",
    "    for image, label in data:\n",
    "        # Resize with padding\n",
    "        image_resized = resize_with_padding(image.numpy(), image_size).astype('float32') / 255.0\n",
    "        images.append(image_resized)\n",
    "        labels.append(label.numpy())\n",
    "    \n",
    "    return np.array(images), np.array(labels)"
   ]
  },
  {
   "cell_type": "markdown",
   "id": "fc50feeb-fc08-40de-b928-dd5ab0dff87a",
   "metadata": {},
   "source": [
    "## Preprocess the training and testing datasets\n"
   ]
  },
  {
   "cell_type": "code",
   "execution_count": 20,
   "id": "3b266e66-f19b-4c12-8c1b-9ae82605146f",
   "metadata": {},
   "outputs": [],
   "source": [
    "X_train, y_train = process_data(train_data, image_size=(64, 64))\n",
    "X_test, y_test = process_data(test_data, image_size=(64, 64))"
   ]
  },
  {
   "cell_type": "markdown",
   "id": "e1a24cee-ddcd-4c41-a8d5-3a19b8a1de0e",
   "metadata": {},
   "source": [
    "## Feature extraction using HOG only\n"
   ]
  },
  {
   "cell_type": "code",
   "execution_count": 22,
   "id": "28a5f1de-f9fe-4890-ae93-966b43a7cea4",
   "metadata": {},
   "outputs": [],
   "source": [
    "def extract_hog_features(image, image_size=(64, 64)):\n",
    "    # Convert image to grayscale\n",
    "    gray_image = cv2.cvtColor((image * 255).astype('uint8'), cv2.COLOR_RGB2GRAY)\n",
    "    \n",
    "    # Define HOGDescriptor parameters\n",
    "    winSize = (32, 32)\n",
    "    blockSize = (16, 16)\n",
    "    blockStride = (8, 8)\n",
    "    cellSize = (8, 8)\n",
    "    nbins = 9\n",
    "\n",
    "    # Initialize HOGDescriptor\n",
    "    hog_descriptor = cv2.HOGDescriptor(winSize, blockSize, blockStride, cellSize, nbins)\n",
    "    \n",
    "    # Compute HOG features\n",
    "    hog_features = hog_descriptor.compute(gray_image).flatten()\n",
    "    \n",
    "    return hog_features"
   ]
  },
  {
   "cell_type": "markdown",
   "id": "51075966-d85b-4464-a099-8d096193844f",
   "metadata": {},
   "source": [
    "## Feature extraction for training and testing datasets using HOG only\n"
   ]
  },
  {
   "cell_type": "code",
   "execution_count": 24,
   "id": "87b27f2e-2960-4173-90f5-622a828557c3",
   "metadata": {},
   "outputs": [],
   "source": [
    "def extract_hog_features_for_dataset(images, image_size=(64, 64)):\n",
    "    features = []\n",
    "    for image in images:\n",
    "        features.append(extract_hog_features(image, image_size))\n",
    "    return np.array(features)"
   ]
  },
  {
   "cell_type": "markdown",
   "id": "db1fe550-7c4f-4835-8346-037b7bd97743",
   "metadata": {},
   "source": [
    "## Extract HOG features for training and testing datasets\n"
   ]
  },
  {
   "cell_type": "code",
   "execution_count": 26,
   "id": "c0d51fcc-c9c4-4043-a4bf-e5daf37b9951",
   "metadata": {},
   "outputs": [],
   "source": [
    "features_train = extract_hog_features_for_dataset(X_train, image_size=(64, 64))\n",
    "features_test = extract_hog_features_for_dataset(X_test, image_size=(64, 64))"
   ]
  },
  {
   "cell_type": "markdown",
   "id": "d461f4a5-21d2-4fbe-b004-fae5414dbcef",
   "metadata": {},
   "source": [
    "## Implement KNN classifier\n"
   ]
  },
  {
   "cell_type": "code",
   "execution_count": 28,
   "id": "1dfbdd08-34d6-4ea7-a7af-39f1cfbb2dcd",
   "metadata": {},
   "outputs": [],
   "source": [
    "\n",
    "def euclidean_distance(x1, x2):\n",
    "    distance = np.sqrt(np.sum((x1-x2)**2))\n",
    "    return distance\n",
    "\n",
    "class KNN:\n",
    "    def __init__(self, k=3): #we make default 3 the votes might be 2:1, ensuring a clear winner smaller than will be no winner or overfitting\n",
    "        self.k = k\n",
    "\n",
    "    def fit(self, X, y): #fit means stores our trainnig set\n",
    "        self.X_train = X    \n",
    "        self.y_train = y\n",
    "\n",
    "    def _predict(self, x):\n",
    "        # compute the distance\n",
    "        distances = [euclidean_distance(x, x_train) for x_train in self.X_train] #x is the test set from xtrain to last value in x_train \n",
    "    \n",
    "        # get the closest k\n",
    "        k_indices_feature = np.argsort(distances)[:self.k] ## sorting ascending order to find the nearest point and determine which class belongs\n",
    "        k_nearest_labels = [self.y_train[i] for i in k_indices_feature]\n",
    "\n",
    "        # majority voye\n",
    "        most_common = Counter(k_nearest_labels).most_common()  ## to count the occurrences of each element in an iterable (like a list).\n",
    "        return most_common[0][0]  ##first element in first label\n",
    "    \n",
    "    def predict(self, X):\n",
    "        predictions = [self._predict(x) for x in X]\n",
    "        return predictions\n",
    "\n",
    "    "
   ]
  },
  {
   "cell_type": "markdown",
   "id": "5b6237a0-c1d1-4edc-84e6-8c4a49b1477f",
   "metadata": {},
   "source": [
    "## Train and predict with KNN\n"
   ]
  },
  {
   "cell_type": "code",
   "execution_count": 30,
   "id": "c2b7746f-da35-4c99-b179-875a4bbd5d49",
   "metadata": {},
   "outputs": [],
   "source": [
    "classifier = KNN(k=5)\n",
    "classifier.fit(features_train, y_train.flatten())\n",
    "y_pred = classifier.predict(features_test)\n"
   ]
  },
  {
   "cell_type": "markdown",
   "id": "320ec7a9-e0f6-47dd-b368-e2c1640056ce",
   "metadata": {},
   "source": [
    "## Evaluate the classifier\n"
   ]
  },
  {
   "cell_type": "code",
   "execution_count": 32,
   "id": "02126541-f23f-4321-abf7-cfd5d0cca915",
   "metadata": {},
   "outputs": [
    {
     "name": "stdout",
     "output_type": "stream",
     "text": [
      "Accuracy using HOG features with KNN: 53.71%\n"
     ]
    }
   ],
   "source": [
    "accuracy = accuracy_score(y_test.flatten(), y_pred)\n",
    "print(f\"Accuracy using HOG features with KNN: {accuracy * 100:.2f}%\")"
   ]
  },
  {
   "cell_type": "markdown",
   "id": "7f86b8cd-f907-479b-b2fa-4ccea08a4dce",
   "metadata": {},
   "source": [
    "## Print classification report\n"
   ]
  },
  {
   "cell_type": "code",
   "execution_count": 34,
   "id": "0e985f0b-bfd0-4362-ab75-1b3cbf0285f0",
   "metadata": {},
   "outputs": [
    {
     "name": "stdout",
     "output_type": "stream",
     "text": [
      "\n",
      "Classification Report:\n",
      "              precision    recall  f1-score   support\n",
      "\n",
      "           0       0.91      0.40      0.56        25\n",
      "           1       0.97      0.93      0.95       770\n",
      "           2       0.27      0.25      0.26        12\n",
      "           3       0.00      0.00      0.00        12\n",
      "           4       0.64      0.09      0.15       438\n",
      "           5       0.18      0.41      0.25        17\n",
      "           6       0.29      0.21      0.24        24\n",
      "           7       0.05      0.06      0.05        16\n",
      "           8       0.00      0.00      0.00         3\n",
      "           9       0.30      0.22      0.26        98\n",
      "          10       0.36      0.29      0.32        68\n",
      "          11       0.18      0.15      0.17        13\n",
      "          12       0.34      0.45      0.39        55\n",
      "          13       0.93      0.23      0.37        61\n",
      "          14       0.50      0.10      0.17        20\n",
      "          15       0.10      0.15      0.12        13\n",
      "          16       0.91      0.98      0.94        93\n",
      "          17       0.60      0.18      0.27        17\n",
      "          18       0.73      0.28      0.40        29\n",
      "          19       0.32      0.19      0.24        32\n",
      "          20       0.33      0.18      0.23        77\n",
      "          21       0.20      0.12      0.15        17\n",
      "          22       0.46      0.28      0.35        39\n",
      "          23       0.18      0.09      0.12        43\n",
      "          24       0.16      0.10      0.12        40\n",
      "          25       0.04      0.20      0.06        20\n",
      "          26       0.03      0.24      0.06        21\n",
      "          27       0.80      0.15      0.25        27\n",
      "          28       0.10      0.03      0.04        37\n",
      "          29       0.21      0.86      0.34        22\n",
      "          30       0.35      0.20      0.25        35\n",
      "          31       0.76      0.42      0.54        38\n",
      "          32       0.43      0.13      0.20        45\n",
      "          33       0.23      0.18      0.20        34\n",
      "          34       0.01      0.13      0.02        23\n",
      "          35       0.50      0.35      0.41        34\n",
      "          36       0.32      0.20      0.25        55\n",
      "          37       0.97      0.74      0.84       405\n",
      "          38       1.00      0.97      0.98       405\n",
      "          39       0.24      0.32      0.28        37\n",
      "          40       0.38      0.14      0.20        37\n",
      "          41       0.00      0.00      0.00        15\n",
      "          42       0.04      0.25      0.06         4\n",
      "          43       0.02      0.50      0.03         4\n",
      "          44       0.56      0.24      0.33        21\n",
      "          45       1.00      0.55      0.71        69\n",
      "          46       0.27      0.16      0.20        70\n",
      "          47       1.00      0.08      0.15        12\n",
      "          48       0.02      0.29      0.04        24\n",
      "          49       0.28      0.19      0.23        58\n",
      "          50       0.15      0.22      0.18        50\n",
      "          51       0.17      1.00      0.29         1\n",
      "          52       0.08      0.12      0.10        34\n",
      "          53       0.23      0.25      0.24        56\n",
      "          54       0.84      0.25      0.39        84\n",
      "          55       0.32      0.32      0.32        31\n",
      "          56       0.85      0.57      0.68        51\n",
      "          57       0.50      0.69      0.58       170\n",
      "          58       0.26      0.10      0.15        48\n",
      "          59       0.17      0.09      0.12        11\n",
      "          60       0.50      0.03      0.05        36\n",
      "          61       0.55      0.46      0.50        13\n",
      "          62       0.04      0.10      0.05        10\n",
      "          63       0.85      0.49      0.62        57\n",
      "          64       0.25      0.50      0.33         2\n",
      "          65       1.00      0.85      0.92        46\n",
      "          66       0.95      0.89      0.92       768\n",
      "          67       0.78      0.28      0.41        25\n",
      "          68       0.00      0.00      0.00         5\n",
      "          69       0.00      0.00      0.00         9\n",
      "          70       0.83      0.59      0.69        17\n",
      "          71       0.17      0.12      0.14         8\n",
      "          72       0.08      0.20      0.11        15\n",
      "          73       0.05      0.61      0.10        23\n",
      "          74       0.00      0.00      0.00         4\n",
      "          75       0.24      0.15      0.18        27\n",
      "          76       0.83      0.67      0.74        52\n",
      "          77       0.06      0.10      0.07        29\n",
      "          78       0.64      0.37      0.47        19\n",
      "          79       0.36      0.40      0.38        10\n",
      "          80       0.47      0.58      0.52        33\n",
      "          81       0.33      0.33      0.33         9\n",
      "          82       0.23      0.13      0.17        54\n",
      "          83       0.00      0.00      0.00        27\n",
      "          84       0.09      0.40      0.15         5\n",
      "          85       0.71      0.15      0.24        34\n",
      "          86       0.62      0.33      0.43        15\n",
      "          87       0.20      0.23      0.22        56\n",
      "          88       0.31      0.28      0.29        29\n",
      "          89       0.93      0.38      0.54        34\n",
      "          90       0.00      0.00      0.00         5\n",
      "          91       0.75      0.11      0.19        55\n",
      "          92       0.22      0.42      0.29        19\n",
      "          93       0.53      0.82      0.64        56\n",
      "          94       0.70      0.16      0.25        45\n",
      "          95       0.79      0.61      0.69       209\n",
      "          96       0.25      0.14      0.18         7\n",
      "          97       0.50      0.10      0.17        29\n",
      "          98       0.00      0.00      0.00         4\n",
      "          99       0.46      0.65      0.54        26\n",
      "         100       0.80      0.44      0.57         9\n",
      "         101       1.00      0.77      0.87        30\n",
      "\n",
      "    accuracy                           0.54      6085\n",
      "   macro avg       0.40      0.31      0.30      6085\n",
      "weighted avg       0.68      0.54      0.57      6085\n",
      "\n"
     ]
    }
   ],
   "source": [
    "print(\"\\nClassification Report:\")\n",
    "print(classification_report(y_test.flatten(), y_pred))"
   ]
  },
  {
   "cell_type": "markdown",
   "id": "f4c30b82-2dc2-4945-a5cf-35850690f7cf",
   "metadata": {},
   "source": [
    "## Visualize a random image, its HOG features, and the KNN prediction\n"
   ]
  },
  {
   "cell_type": "code",
   "execution_count": 36,
   "id": "2a476bd0-db33-46e2-b060-f2cf4a537188",
   "metadata": {},
   "outputs": [],
   "source": [
    "def show_image_with_hog_features_and_prediction(images, labels, classifier, image_size=(64, 64)):\n",
    "    # Randomly choose an index\n",
    "    idx = np.random.choice(len(images))\n",
    "    \n",
    "    # Extract the selected image and its corresponding label\n",
    "    image = images[idx]\n",
    "    true_label = labels[idx]\n",
    "\n",
    "    # Resize image to the desired size\n",
    "    resized_image = resize_with_padding(image, target_size=image_size)\n",
    "\n",
    "    # Extract HOG features\n",
    "    hog_features = extract_hog_features(resized_image, image_size=image_size)\n",
    "    \n",
    "    # Make prediction using the classifier\n",
    "    prediction = classifier.predict([hog_features])[0]\n",
    "    \n",
    "    # Extract HOG visualization for display\n",
    "    gray_image = cv2.cvtColor((resized_image * 255).astype('uint8'), cv2.COLOR_RGB2GRAY)\n",
    "    _, hog_image = hog(\n",
    "        gray_image,\n",
    "        orientations=9,\n",
    "        pixels_per_cell=(8, 8),\n",
    "        cells_per_block=(2, 2),\n",
    "        block_norm='L2-Hys',\n",
    "        visualize=True,\n",
    "    )\n",
    "\n",
    "    # Plot the original image\n",
    "    plt.subplot(1, 3, 1)\n",
    "    plt.imshow(resized_image)\n",
    "    plt.title(f\"True Label: {true_label}\")\n",
    "    plt.axis('off')\n",
    "    \n",
    "    # Plot the HOG visualization\n",
    "    plt.subplot(1, 3, 2)\n",
    "    plt.imshow(hog_image, cmap=plt.cm.gray)\n",
    "    plt.title(\"HOG Features\")\n",
    "    plt.axis('off')\n",
    "    \n",
    "    # Plot the predicted label\n",
    "    plt.subplot(1, 3, 3)\n",
    "    plt.imshow(resized_image)\n",
    "    plt.title(f\"Predicted: {prediction}\")\n",
    "    plt.axis('off')\n",
    "    \n",
    "    plt.show()"
   ]
  },
  {
   "cell_type": "markdown",
   "id": "cc7eb273-2a39-4b5a-b77e-f5f18bf1b415",
   "metadata": {},
   "source": [
    "## Show image with HOG features and prediction\n"
   ]
  },
  {
   "cell_type": "code",
   "execution_count": 38,
   "id": "06924f4b-289e-4fd3-82f3-71347acaa34b",
   "metadata": {},
   "outputs": [
    {
     "data": {
      "image/png": "[encoded data removed]",
      "text/plain": [
       "<Figure size 640x480 with 3 Axes>"
      ]
     },
     "metadata": {},
     "output_type": "display_data"
    }
   ],
   "source": [
    "show_image_with_hog_features_and_prediction(X_test, y_test, classifier)"
   ]
  }
 ],
 "metadata": {
  "kernelspec": {
   "display_name": "Python 3 (ipykernel)",
   "language": "python",
   "name": "python3"
  },
  "language_info": {
   "codemirror_mode": {
    "name": "ipython",
    "version": 3
   },
   "file_extension": ".py",
   "mimetype": "text/x-python",
   "name": "python",
   "nbconvert_exporter": "python",
   "pygments_lexer": "ipython3",
   "version": "3.12.4"
  }
 },
 "nbformat": 4,
 "nbformat_minor": 5
}
