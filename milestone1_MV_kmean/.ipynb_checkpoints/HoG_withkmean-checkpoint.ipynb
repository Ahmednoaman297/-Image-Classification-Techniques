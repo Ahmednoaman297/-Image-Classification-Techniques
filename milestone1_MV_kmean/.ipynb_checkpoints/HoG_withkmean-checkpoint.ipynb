{
 "cells": [
  {
   "cell_type": "markdown",
   "id": "23205328-4f79-47a4-8a5f-2d48770bf7f9",
   "metadata": {},
   "source": [
    "## import libarary"
   ]
  },
  {
   "cell_type": "code",
   "execution_count": 94,
   "id": "7e9cf1aa-e0f6-4a3e-9b43-c92551bceb13",
   "metadata": {},
   "outputs": [],
   "source": [
    "import numpy as np\n",
    "import cv2\n",
    "import tensorflow as tf\n",
    "from sklearn.metrics import accuracy_score, confusion_matrix\n",
    "from tensorflow.keras import datasets\n",
    "import tensorflow_datasets as tfds\n",
    "import matplotlib.pyplot as plot\n",
    "\n"
   ]
  },
  {
   "cell_type": "markdown",
   "id": "2a1c93c9-a6a9-48ff-9dc7-1de610131804",
   "metadata": {},
   "source": [
    "##  Load the Caltech101 dataset\n"
   ]
  },
  {
   "cell_type": "code",
   "execution_count": 96,
   "id": "6f87a276-da16-4af0-84a9-0f52c038cbd1",
   "metadata": {},
   "outputs": [],
   "source": [
    "# Load the Caltech101 dataset\n",
    "dataset, info = tfds.load('caltech101', with_info=True, as_supervised=True)\n",
    "\n",
    "# Split the dataset into training and testing\n",
    "train_data = dataset['train']\n",
    "test_data = dataset['test']"
   ]
  },
  {
   "cell_type": "markdown",
   "id": "42f081c4-c2b2-4030-ba79-008792c57820",
   "metadata": {},
   "source": [
    "## Convert train and test data into numpy arrays\n"
   ]
  },
  {
   "cell_type": "code",
   "execution_count": 98,
   "id": "aad64d47-e96c-495c-831b-001038dbc7e5",
   "metadata": {},
   "outputs": [],
   "source": [
    "def process_data(data, image_size=(32, 32)):\n",
    "    images = []\n",
    "    labels = []\n",
    "\n",
    "    for image, label in data:\n",
    "        # Resize image to the desired shape\n",
    "        image_resized = cv2.resize(image.numpy(), image_size)\n",
    "        images.append(image_resized)\n",
    "        labels.append(label.numpy())\n",
    "    \n",
    "    return np.array(images), np.array(labels)"
   ]
  },
  {
   "cell_type": "markdown",
   "id": "6cfe0f14-d533-4943-8a50-d6cd288fe569",
   "metadata": {},
   "source": [
    "## Load and preprocess training and testing data\n"
   ]
  },
  {
   "cell_type": "code",
   "execution_count": 100,
   "id": "7b7eff7b-bcaf-47bf-8a0a-7bd78c4ee919",
   "metadata": {},
   "outputs": [],
   "source": [
    "X_train, y_train = process_data(train_data)\n",
    "X_test, y_test = process_data(test_data)"
   ]
  },
  {
   "cell_type": "code",
   "execution_count": 101,
   "id": "fad95510-ad95-4e86-84ac-ecb1f061df3b",
   "metadata": {},
   "outputs": [
    {
     "data": {
      "text/plain": [
       "(3059, 32, 32, 3)"
      ]
     },
     "execution_count": 101,
     "metadata": {},
     "output_type": "execute_result"
    }
   ],
   "source": [
    "X_train.shape"
   ]
  },
  {
   "cell_type": "markdown",
   "id": "fc9b04e1-940f-4748-a4fa-0c88173e9608",
   "metadata": {},
   "source": [
    "## Convert images to grayscale\n"
   ]
  },
  {
   "cell_type": "code",
   "execution_count": 103,
   "id": "89b70455-1327-4574-ab54-9e1b9f20a510",
   "metadata": {},
   "outputs": [],
   "source": [
    "X_train_gray = np.array([cv2.cvtColor(img, cv2.COLOR_BGR2GRAY) for img in X_train])\n",
    "X_test_gray = np.array([cv2.cvtColor(img, cv2.COLOR_BGR2GRAY) for img in X_test])\n"
   ]
  },
  {
   "cell_type": "code",
   "execution_count": 104,
   "id": "a77d39ae-0654-454a-9689-c418fea83704",
   "metadata": {},
   "outputs": [
    {
     "data": {
      "text/plain": [
       "(3059, 32, 32)"
      ]
     },
     "execution_count": 104,
     "metadata": {},
     "output_type": "execute_result"
    }
   ],
   "source": [
    "X_train_gray.shape"
   ]
  },
  {
   "cell_type": "markdown",
   "id": "a63e6856-bc39-4cc7-a7ee-c8dda25e1b7c",
   "metadata": {},
   "source": [
    "##  Resize the images to (32, 32) for HOG computation\n"
   ]
  },
  {
   "cell_type": "code",
   "execution_count": 106,
   "id": "dbbd234f-9d98-4b23-b73e-5db4e8e41f93",
   "metadata": {},
   "outputs": [],
   "source": [
    "X_train_resized = np.array([cv2.resize(img, (32, 32)) for img in X_train_gray])\n",
    "X_test_resized = np.array([cv2.resize(img, (32, 32)) for img in X_test_gray])"
   ]
  },
  {
   "cell_type": "markdown",
   "id": "7abba462-0731-4cf5-8b51-d7a6de054e14",
   "metadata": {},
   "source": [
    "## Define HOG descriptor parameters"
   ]
  },
  {
   "cell_type": "code",
   "execution_count": 108,
   "id": "4d4df9cc-67aa-49be-a472-b3280f1c9703",
   "metadata": {},
   "outputs": [],
   "source": [
    "winSize = (32,32)\n",
    "blockSize = (8,8)\n",
    "blockStride = (4,4)\n",
    "cellSize = (4,4)\n",
    "nbins = 9"
   ]
  },
  {
   "cell_type": "markdown",
   "id": "9826072e-e8aa-44bb-a40a-9a562fdcec39",
   "metadata": {},
   "source": [
    "## Initialize the HOG descriptor"
   ]
  },
  {
   "cell_type": "code",
   "execution_count": 110,
   "id": "3b2bf6bb-6c10-488d-b866-572c5387387a",
   "metadata": {},
   "outputs": [],
   "source": [
    "hog = cv2.HOGDescriptor(winSize,blockSize,blockStride,cellSize,nbins)"
   ]
  },
  {
   "cell_type": "markdown",
   "id": "7b97f378-04fe-422b-8ad3-2361e3a67290",
   "metadata": {},
   "source": [
    "## Extract HOG features from the training data\n"
   ]
  },
  {
   "cell_type": "code",
   "execution_count": 112,
   "id": "a8010360-89f6-454b-8809-ce1eaeea3667",
   "metadata": {},
   "outputs": [],
   "source": [
    "hog_features_train = [hog.compute(image).flatten() for image in X_train_resized]\n",
    "hog_features_test = [hog.compute(image).flatten() for image in X_test_resized]"
   ]
  },
  {
   "cell_type": "markdown",
   "id": "6d9911a5-7e54-414d-adf4-5082661d0d0a",
   "metadata": {},
   "source": [
    "## Convert the list of features into numpy arrays"
   ]
  },
  {
   "cell_type": "code",
   "execution_count": 114,
   "id": "56c2b586-a77c-4734-899b-b7b48bc7cf3b",
   "metadata": {},
   "outputs": [],
   "source": [
    "hog_features_xtrain = np.array(hog_features_train)\n",
    "hog_features_test = np.array(hog_features_test)"
   ]
  },
  {
   "cell_type": "code",
   "execution_count": 115,
   "id": "883ec947-a85d-428d-8c19-a1f79be83518",
   "metadata": {},
   "outputs": [],
   "source": [
    "import numpy as np\n",
    "import matplotlib.pyplot as plt\n",
    "\n",
    "def euclidean_distance(x1, x2):\n",
    "    return np.sqrt(np.sum((x1-x2)**2))\n",
    "\n",
    "class KMeans:\n",
    "\n",
    "    def __init__(self, K=5, max_iters=100, plot_steps=False):\n",
    "        self.K = K\n",
    "        self.max_iters = max_iters\n",
    "        self.plot_steps = plot_steps\n",
    "\n",
    "        # list of sample indices for each cluster\n",
    "        self.clusters = [[] for _ in range(self.K)]\n",
    "\n",
    "        # the centers (mean vector) for each cluster\n",
    "        self.centroids = []\n",
    "\n",
    "\n",
    "    def predict(self, X):\n",
    "        self.X = X\n",
    "        self.n_samples, self.n_features = X.shape\n",
    "\n",
    "        # initialize\n",
    "        random_sample_idxs = np.random.choice(self.n_samples, self.K, replace=False)\n",
    "        self.centroids = [self.X[idx] for idx in random_sample_idxs]\n",
    "\n",
    "        # optimize clusters\n",
    "        for _ in range(self.max_iters):\n",
    "            # assign samples to closest centroids (create clusters)\n",
    "            self.clusters = self._create_clusters(self.centroids)\n",
    "\n",
    "            if self.plot_steps:\n",
    "                self.plot()\n",
    "\n",
    "            # calculate new centroids from the clusters\n",
    "            centroids_old = self.centroids\n",
    "            self.centroids = self._get_centroids(self.clusters)\n",
    "\n",
    "            if self._is_converged(centroids_old, self.centroids):\n",
    "                break\n",
    "\n",
    "            if self.plot_steps:\n",
    "                self.plot()\n",
    "\n",
    "        # classify samples as the index of their clusters\n",
    "        return self._get_cluster_labels(self.clusters)\n",
    "\n",
    "\n",
    "    def _get_cluster_labels(self, clusters):\n",
    "        # each sample will get the label of the cluster it was assigned to\n",
    "        labels = np.empty(self.n_samples)\n",
    "        for cluster_idx, cluster in enumerate(clusters):\n",
    "            for sample_idx in cluster:\n",
    "                labels[sample_idx] = cluster_idx\n",
    "\n",
    "        return labels\n",
    "\n",
    "\n",
    "    def _create_clusters(self, centroids):\n",
    "        # assign the samples to the closest centroids\n",
    "        clusters = [[] for _ in range(self.K)]\n",
    "        for idx, sample in enumerate(self.X):\n",
    "            centroid_idx = self._closest_centroid(sample, centroids)\n",
    "            clusters[centroid_idx].append(idx)\n",
    "        return clusters\n",
    "\n",
    "    def _closest_centroid(self, sample, centroids):\n",
    "        # distance of the current sample to each centroid\n",
    "        distances = [euclidean_distance(sample, point) for point in centroids]\n",
    "        closest_idx = np.argmin(distances)\n",
    "        return closest_idx\n",
    "\n",
    "\n",
    "    def _get_centroids(self, clusters):\n",
    "        # assign mean value of clusters to centroids\n",
    "        centroids = np.zeros((self.K, self.n_features))\n",
    "        for cluster_idx, cluster in enumerate(clusters):\n",
    "            cluster_mean = np.mean(self.X[cluster], axis=0)\n",
    "            centroids[cluster_idx] = cluster_mean\n",
    "        return centroids\n",
    "\n",
    "    def _is_converged(self, centroids_old, centroids):\n",
    "        # distances between old and new centroids, for all centroids\n",
    "        distances = [euclidean_distance(centroids_old[i], centroids[i]) for i in range(self.K)]\n",
    "        return sum(distances) == 0\n",
    "\n",
    "    def plot(self):\n",
    "        # Visualize the clusters in 2D space using PCA\n",
    "        self.plot_clusters_2D()\n",
    "\n",
    "    # Modify the original plot method to call plot_clusters_2D\n",
    "    def plot_clusters_2D(self):\n",
    "        # Use PCA to reduce dimensions to 2 for visualization\n",
    "        pca = PCA(n_components=2)\n",
    "        reduced_data = pca.fit_transform(self.X)  # Reduce X to 2D\n",
    "\n",
    "        fig, ax = plt.subplots(figsize=(12, 8))\n",
    "\n",
    "        # Plot each cluster\n",
    "        for i, cluster in enumerate(self.clusters):\n",
    "            points = reduced_data[cluster]\n",
    "            ax.scatter(points[:, 0], points[:, 1], label=f\"Cluster {i}\")\n",
    "\n",
    "        # Plot the centroids\n",
    "        for point in self.centroids:\n",
    "            reduced_point = pca.transform([point])  # Transform centroid to 2D\n",
    "            ax.scatter(reduced_point[0, 0], reduced_point[0, 1], marker=\"x\", color=\"black\", linewidth=2, s=100)\n",
    "\n",
    "        ax.legend()\n",
    "        plt.show()\n",
    "\n"
   ]
  },
  {
   "cell_type": "markdown",
   "id": "3f6ab352-4e0e-45f2-8e78-8659975e0ac7",
   "metadata": {},
   "source": [
    "## Training the kMean model on the Training set\n"
   ]
  },
  {
   "cell_type": "code",
   "execution_count": 118,
   "id": "59a8aed4-cb53-4d10-a283-5c6d25860ff2",
   "metadata": {},
   "outputs": [],
   "source": [
    "clusters = len(np.unique(y_train.flatten()))\n",
    "classifier = KMeans(K=clusters, max_iters=150, plot_steps=False)\n"
   ]
  },
  {
   "cell_type": "markdown",
   "id": "3d4dd57e-55d9-4040-987c-0d2059ebd966",
   "metadata": {},
   "source": [
    "## Make predictions on the test set"
   ]
  },
  {
   "cell_type": "code",
   "execution_count": 121,
   "id": "51799ae1-068c-4c98-8861-1b2c3b705d0c",
   "metadata": {},
   "outputs": [],
   "source": [
    "y_pred = classifier.predict(hog_features_test)\n"
   ]
  },
  {
   "cell_type": "markdown",
   "id": "bca59906-d6b1-4701-9f5e-588a23bbfb72",
   "metadata": {},
   "source": [
    "## Evaluate the classifier's performance\n"
   ]
  },
  {
   "cell_type": "code",
   "execution_count": 123,
   "id": "9672e7ab-c6f5-42dc-b54c-7d2450247930",
   "metadata": {},
   "outputs": [
    {
     "name": "stdout",
     "output_type": "stream",
     "text": [
      "Accuracy:  0.011010682004930156\n"
     ]
    }
   ],
   "source": [
    "accuracy = accuracy_score(y_test.flatten(), y_pred)\n",
    "print(\"Accuracy: \", accuracy)\n"
   ]
  }
 ],
 "metadata": {
  "kernelspec": {
   "display_name": "Python 3 (ipykernel)",
   "language": "python",
   "name": "python3"
  },
  "language_info": {
   "codemirror_mode": {
    "name": "ipython",
    "version": 3
   },
   "file_extension": ".py",
   "mimetype": "text/x-python",
   "name": "python",
   "nbconvert_exporter": "python",
   "pygments_lexer": "ipython3",
   "version": "3.12.4"
  }
 },
 "nbformat": 4,
 "nbformat_minor": 5
}
